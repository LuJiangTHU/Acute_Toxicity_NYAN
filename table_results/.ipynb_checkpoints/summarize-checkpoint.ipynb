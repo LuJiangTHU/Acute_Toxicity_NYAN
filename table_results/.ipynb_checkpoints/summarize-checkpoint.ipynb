{
 "cells": [
  {
   "cell_type": "code",
   "execution_count": 20,
   "id": "bc58c0f9-e5ad-4246-a9cc-cd48239d9c33",
   "metadata": {},
   "outputs": [],
   "source": [
    "import csv\n",
    "import numpy as np\n",
    "import pandas as pd"
   ]
  },
  {
   "cell_type": "code",
   "execution_count": 21,
   "id": "806e2f3f-f914-4378-8763-5e6968155b9b",
   "metadata": {},
   "outputs": [],
   "source": [
    "df = pd.read_csv('MTL_results.csv')"
   ]
  },
  {
   "cell_type": "code",
   "execution_count": 22,
   "id": "cff8447a-8aeb-4fd7-915c-8a593acc3411",
   "metadata": {},
   "outputs": [],
   "source": [
    "df_1_NYAN = pd.read_csv('MTL_with_1_NYAN.csv')"
   ]
  },
  {
   "cell_type": "code",
   "execution_count": 24,
   "id": "9000319c-fea5-4ab6-900c-5e3c92cfe902",
   "metadata": {},
   "outputs": [],
   "source": [
    "df = pd.merge(df, df_1_NYAN, on='Task') "
   ]
  },
  {
   "cell_type": "code",
   "execution_count": 25,
   "id": "63e4bf4c-d6ff-4be1-b79e-fc79d5d20dc6",
   "metadata": {},
   "outputs": [],
   "source": [
    "df.to_csv('new_MTL_results.csv', index=False)"
   ]
  },
  {
   "cell_type": "code",
   "execution_count": null,
   "id": "8abebe78-3984-42ee-9f33-91afd10674c2",
   "metadata": {},
   "outputs": [],
   "source": []
  }
 ],
 "metadata": {
  "kernelspec": {
   "display_name": "Python 3 (ipykernel)",
   "language": "python",
   "name": "python3"
  },
  "language_info": {
   "codemirror_mode": {
    "name": "ipython",
    "version": 3
   },
   "file_extension": ".py",
   "mimetype": "text/x-python",
   "name": "python",
   "nbconvert_exporter": "python",
   "pygments_lexer": "ipython3",
   "version": "3.11.5"
  }
 },
 "nbformat": 4,
 "nbformat_minor": 5
}
